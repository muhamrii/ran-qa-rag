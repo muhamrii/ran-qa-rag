{
 "cells": [
  {
   "cell_type": "markdown",
   "metadata": {},
   "source": [
    "# Parser Example\n",
    "\n",
    "This notebook demonstrates the usage of the parsing functions defined in `parser.py`. We will load sample data from CSV and XML files, and display the resulting DataFrames."
   ]
  },
  {
   "cell_type": "code",
   "execution_count": null,
   "metadata": {
    "collapsed": false
   },
   "outputs": [],
   "source": [
    "import pandas as pd\n",
    "from parser import parse_csv, parse_xml\n",
    "\n",
    "# Load sample CSV data\n",
    "csv_file_path = 'sample_data.csv'\n",
    "csv_data = parse_csv(csv_file_path)\n",
    "print(\"CSV Data:\")\n",
    "print(csv_data)\n",
    "\n",
    "# Load sample XML data\n",
    "xml_file_path = 'sample_data.xml'\n",
    "xml_data = parse_xml(xml_file_path)\n",
    "print(\"\\nXML Data:\")\n",
    "print(xml_data)"
   ]
  }
 ],
 "metadata": {
  "kernelspec": {
   "display_name": "Python 3",
   "language": "python",
   "name": "python3"
  },
  "language_info": {
   "codemirror_mode": {
    "name": "ipython",
    "version": 3
   },
   "file_extension": ".py",
   "mimetype": "text/x-python",
   "name": "python",
   "nbconvert_exporter": "python",
   "pygments_lexer": "ipython3",
   "version": "3.8.5"
  }
 },
 "nbformat": 4,
 "nbformat_minor": 4
}