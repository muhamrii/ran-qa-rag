{
 "cells": [
  {
   "cell_type": "markdown",
   "metadata": {},
   "source": [
    "# Knowledge Graph Builder Example\n",
    "\n",
    "This notebook demonstrates the process of building a knowledge graph from DataFrames using the functions defined in `kg_builder.py`. It includes examples of how to extract entities and generate Cypher commands."
   ]
  },
  {
   "cell_type": "code",
   "execution_count": null,
   "metadata": {},
   "outputs": [],
   "source": [
    "import sys\n",
    "import os\n",
    "import pandas as pd\n",
    "from kg_builder import describe_all_tables_llm, extract_entities, generate_cypher\n",
    "# Add the parser directory to sys.path\n",
    "import pathlib\n",
    "notebook_dir = pathlib.Path().resolve()\n",
    "parser_dir = notebook_dir / '../parser'\n",
    "sys.path.append(str(parser_dir.resolve()))\n",
    "\n",
    "from parser import parse_xml\n",
    "\n",
    "# Sample DataFrame\n",
    "# Parse the XML file\n",
    "xml_file_path = '../parser/data/RAN_CM_DATA_SAMPLES.xml'  # Adjust path as needed\n",
    "dfs, metadata, metadata2 = parse_xml(xml_file_path)"
   ]
  },
  {
   "cell_type": "code",
   "execution_count": null,
   "metadata": {},
   "outputs": [],
   "source": [
    "# Describe the DataFrame\n",
    "description = describe_all_tables_llm(metadata2)\n",
    "print(description)\n",
    "\n",
    "# Extract entities\n",
    "entities = extract_entities(df)\n",
    "print(\"Extracted entities:\", entities)\n",
    "\n",
    "# Generate Cypher command\n",
    "cypher_command = generate_cypher(entities)\n",
    "print(\"Generated Cypher command:\", cypher_command)"
   ]
  }
 ],
 "metadata": {
  "kernelspec": {
   "display_name": "Python 3",
   "language": "python",
   "name": "python3"
  },
  "language_info": {
   "codemirror_mode": {
    "name": "ipython",
    "version": 3
   },
   "file_extension": ".py",
   "mimetype": "text/x-python",
   "name": "python",
   "nbconvert_exporter": "python",
   "pygments_lexer": "ipython3",
   "version": "3.10.17"
  }
 },
 "nbformat": 4,
 "nbformat_minor": 4
}
