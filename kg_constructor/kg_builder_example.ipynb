{
 "cells": [
  {
   "cell_type": "markdown",
   "metadata": {},
   "source": [
    "# Knowledge Graph Builder Example\n",
    "\n",
    "This notebook demonstrates the process of building a knowledge graph from DataFrames using the functions defined in `kg_builder.py`. It includes examples of how to extract entities and generate Cypher commands."
   ]
  },
  {
   "cell_type": "code",
   "execution_count": null,
   "metadata": {},
   "outputs": [],
   "source": [
    "import pandas as pd\n",
    "from kg_builder import describe_dataframe, extract_entities, generate_cypher\n",
    "\n",
    "# Sample DataFrame\n",
    "data = {\n",
    "    'cell_id': [1, 2],\n",
    "    'metric1': [100, 110],\n",
    "    'metric2': [200, 210]\n",
    "}\n",
    "df = pd.DataFrame(data)\n",
    "\n",
    "# Describe the DataFrame\n",
    "description = describe_dataframe(df)\n",
    "print(description)\n",
    "\n",
    "# Extract entities\n",
    "entities = extract_entities(df)\n",
    "print(\"Extracted entities:\", entities)\n",
    "\n",
    "# Generate Cypher command\n",
    "cypher_command = generate_cypher(entities)\n",
    "print(\"Generated Cypher command:\", cypher_command)"
   ]
  }
 ],
 "metadata": {
  "kernelspec": {
   "display_name": "Python 3",
   "language": "python",
   "name": "python3"
  },
  "language_info": {
   "codemirror_mode": {
    "name": "ipython",
    "version": 3
   },
   "file_extension": ".py",
   "mimetype": "text/x-python",
   "name": "python",
   "nbconvert_exporter": "python",
   "pygments_lexer": "ipython3",
   "version": "3.8.5"
  }
 },
 "nbformat": 4,
 "nbformat_minor": 4
}