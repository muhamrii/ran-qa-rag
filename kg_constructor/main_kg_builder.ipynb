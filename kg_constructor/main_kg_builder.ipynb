{
 "cells": [
  {
   "cell_type": "markdown",
   "metadata": {},
   "source": [
    "# Knowledge Graph Builder Example\n",
    "\n",
    "This notebook demonstrates the process of building a knowledge graph from DataFrames using the functions defined in `kg_builder.py`. It includes examples of how to extract entities and generate Cypher commands."
   ]
  },
  {
   "cell_type": "code",
   "execution_count": 9,
   "metadata": {},
   "outputs": [],
   "source": [
    "import sys\n",
    "import os\n",
    "import pandas as pd\n",
    "from kg_builder import describe_tables, extract_entities_and_relations, build_cypher_commands, LocalLLM, GoogleAIStudioLLM\n",
    "# Add the parser directory to sys.path\n",
    "import pathlib\n",
    "notebook_dir = pathlib.Path().resolve()\n",
    "parser_dir = notebook_dir / '../parser'\n",
    "sys.path.append(str(parser_dir.resolve()))\n",
    "\n",
    "from parser import parse_xml\n",
    "\n",
    "# Sample DataFrame\n",
    "# Parse the XML file\n",
    "xml_file_path = '../parser/data/RAN_CM_DATA_SAMPLES.xml'  # Adjust path as needed\n",
    "dfs, metadata, metadata2 = parse_xml(xml_file_path)"
   ]
  },
  {
   "cell_type": "code",
   "execution_count": 12,
   "metadata": {},
   "outputs": [],
   "source": [
    "# Step 1: Describe tables\n",
    "import yaml\n",
    "import os\n",
    "\n",
    "CONFIG_PATH = os.path.join(notebook_dir, \"../config.yaml\")\n",
    "with open(CONFIG_PATH, \"r\") as f:\n",
    "    config = yaml.safe_load(f)\n",
    "GOOGLE_API_KEY = config[\"google_ai_studio\"][\"api_key2\"]\n",
    "GOOGLE_MODEL = config[\"google_ai_studio\"].get(\"model\", \"gemini-1.5-flash-latest\")\n",
    "\n",
    "llm = GoogleAIStudioLLM(api_key=GOOGLE_API_KEY, model=GOOGLE_MODEL)\n",
    "descriptions = describe_tables(dfs, llm)"
   ]
  },
  {
   "cell_type": "code",
   "execution_count": null,
   "metadata": {},
   "outputs": [],
   "source": [
    "# Step 2: Extract entities & relationships\n",
    "entities, relationships = extract_entities_and_relations(descriptions, llm)"
   ]
  },
  {
   "cell_type": "code",
   "execution_count": null,
   "metadata": {},
   "outputs": [],
   "source": [
    "# Step 3: Build Cypher commands\n",
    "cypher_cmds = build_cypher_commands(entities, relationships)"
   ]
  },
  {
   "cell_type": "code",
   "execution_count": null,
   "metadata": {},
   "outputs": [],
   "source": [
    "# Step 4: Execute on Neo4j\n",
    "execute_cypher(cypher_cmds)"
   ]
  }
 ],
 "metadata": {
  "kernelspec": {
   "display_name": "Python 3",
   "language": "python",
   "name": "python3"
  },
  "language_info": {
   "codemirror_mode": {
    "name": "ipython",
    "version": 3
   },
   "file_extension": ".py",
   "mimetype": "text/x-python",
   "name": "python",
   "nbconvert_exporter": "python",
   "pygments_lexer": "ipython3",
   "version": "3.10.17"
  }
 },
 "nbformat": 4,
 "nbformat_minor": 4
}
