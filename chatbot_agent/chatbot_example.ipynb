{
 "cells": [
  {
   "cell_type": "markdown",
   "metadata": {},
   "source": [
    "# Chatbot Example\n",
    "\n",
    "This notebook demonstrates the functionality of the chatbot interface, which translates natural language queries into Cypher commands and interacts with the Neo4j database."
   ]
  },
  {
   "cell_type": "code",
   "execution_count": null,
   "metadata": {
    "collapsed": false
   },
   "outputs": [],
   "source": [
    "from chatbot import nl_to_cypher, query_neo4j, format_rag_answer\n",
    "\n",
    "# Example natural language query\n",
    "query = \"What are the metrics for cell 1?\"\n",
    "\n",
    "# Translate the natural language query to Cypher\n",
    "cypher_query = nl_to_cypher(query)\n",
    "print(\"Cypher Query:\", cypher_query)\n",
    "\n",
    "# Query Neo4j with the generated Cypher\n",
    "results = query_neo4j(cypher_query)\n",
    "print(\"Query Results:\", results)\n",
    "\n",
    "# Format the results into a RAG answer\n",
    "rag_answer = format_rag_answer(results)\n",
    "print(\"RAG Answer:\", rag_answer)"
   ]
  }
 ],
 "metadata": {
  "kernelspec": {
   "display_name": "Python 3",
   "language": "python",
   "name": "python3"
  },
  "language_info": {
   "codemirror_mode": {
    "name": "ipython",
    "version": 3
   },
   "file_extension": ".py",
   "mimetype": "text/x-python",
   "name": "python",
   "nbconvert_exporter": "python",
   "pygments_lexer": "ipython3",
   "version": "3.8.5"
  }
 },
 "nbformat": 4,
 "nbformat_minor": 4
}